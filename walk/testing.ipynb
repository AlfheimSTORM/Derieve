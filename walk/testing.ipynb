#dependencies
from bs4 import BeautifulSoup
import requests
import re

#set up list
gallery = "gallery$400"
UIC = 'UIC'
chicago = 'chicago'
usa = 'usa'